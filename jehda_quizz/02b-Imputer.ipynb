{
  "cells": [
    {
      "cell_type": "markdown",
      "metadata": {
        "colab_type": "text",
        "id": "6cqYL_Y0rfoH"
      },
      "source": [
        "# Imputer"
      ]
    },
    {
      "cell_type": "markdown",
      "metadata": {
        "colab_type": "text",
        "id": "sB61JRG-rj6v"
      },
      "source": [
        "_In data science, it's common for there to be missing values in a dataset. Let's see how we can create a class that will allow us to replace this missing value by the average of the values in the list_"
      ]
    },
    {
      "cell_type": "markdown",
      "metadata": {
        "colab_type": "text",
        "id": "nvclKDGOrlV3"
      },
      "source": [
        "1. _Create a class that we will call Imputer_.\n",
        "2. _To simplify the exercise, we will only deal with lists for the moment._\n",
        "3. _Our class will take an attribute that we will call list_.\n",
        "4. _Create an avg() function that will first remove the missing value and then replace it with the average of the list._"
      ]
    },
    {
      "cell_type": "code",
      "execution_count": 35,
      "metadata": {},
      "outputs": [],
      "source": [
        "class Imputer:\n",
        "    def __init__(self, list = []):\n",
        "        self.list = list\n",
        "    \n",
        "    def average(self):\n",
        "        new_list = []\n",
        "        list_with_value = [x for x in self.list if x is not None]\n",
        "        list_avg =  sum(list_with_value) / len(list_with_value)\n",
        "        \n",
        "        for i in self.list:\n",
        "            if i is None:\n",
        "                i = list_avg\n",
        "                new_list.append(i)\n",
        "            \n",
        "            else:\n",
        "                new_list.append(i)\n",
        "        \n",
        "        print(\"Here's my initial list:\", self.list)\n",
        "        print(\"Here is my list after imputer :\", new_list)\n"
      ]
    },
    {
      "cell_type": "code",
      "execution_count": 36,
      "metadata": {},
      "outputs": [
        {
          "name": "stdout",
          "output_type": "stream",
          "text": [
            "Here's my initial list: [None, 2, 4, 6, None]\n",
            "Here is my list after imputer : [4.0, 2, 4, 6, 4.0]\n"
          ]
        }
      ],
      "source": [
        "first = Imputer([None, 2, 4, 6, None])\n",
        "first.average()"
      ]
    },
    {
      "cell_type": "code",
      "execution_count": 1,
      "metadata": {
        "colab": {
          "base_uri": "https://localhost:8080/",
          "height": 52
        },
        "colab_type": "code",
        "id": "4agC-7RLrQSp",
        "outputId": "c98a0475-d2f7-4e53-e3b3-e45b2c1874ff"
      },
      "outputs": [
        {
          "name": "stdout",
          "output_type": "stream",
          "text": [
            "Here's my initial list [None, 2, 4, 6, None]\n",
            "Here is my list after imputer : [4.0, 2, 4, 6, 4.0]\n"
          ]
        }
      ],
      "source": []
    },
    {
      "cell_type": "markdown",
      "metadata": {
        "colab_type": "text",
        "id": "bc7K3aMYr9uH"
      },
      "source": [
        "# OPTIONAL - Improve Imputer\n",
        "\n",
        "_We have created our Imputer class which works very well for replacing missing values with averages. But, couldn't we also use this class to replace with a median? Try to add a method in Imputer that will allow us to replace the list with either the average or the median._"
      ]
    },
    {
      "cell_type": "code",
      "execution_count": 63,
      "metadata": {},
      "outputs": [],
      "source": [
        "class Imputer:\n",
        "    def __init__(self, list = []):\n",
        "        self.list = list\n",
        "    \n",
        "    def average(self):\n",
        "        new_list = []\n",
        "        list_with_value = [x for x in self.list if x is not None]\n",
        "        list_avg =  sum(list_with_value) / len(list_with_value)\n",
        "        \n",
        "        for i in self.list:\n",
        "            if i is None:\n",
        "                i = list_avg\n",
        "                new_list.append(i)\n",
        "            \n",
        "            else:\n",
        "                new_list.append(i)\n",
        "        \n",
        "        print(\"Here is a list\", self.list)\n",
        "        print(\"Here is the list with the empty values replaced by the average value :\", new_list)\n",
        "        \n",
        "\n",
        "    def median(self):\n",
        "        new_list = []\n",
        "        list_with_value = [x for x in self.list if x is not None]\n",
        "\n",
        "        # Ici on fait le tri des éléments de la liste dans l'ordre croissant\n",
        "        n = len(list_with_value)\n",
        "        for i in range(n):\n",
        "            for j in range(0, n-i-1):\n",
        "                if list_with_value[j] > list_with_value[j+1]:\n",
        "                    list_with_value[j], list_with_value[j+1] = list_with_value[j+1], list_with_value[j]\n",
        "\n",
        "        # Ici on détermine si la liste a un nombre d'élément pair ou impair et en fonction de cela on calcule la médiane\n",
        "\n",
        "        if n % 2 == 0:\n",
        "            first_position = int((n/2) - 1)\n",
        "            snd_position = int(n/2)\n",
        "            mediane = (list_with_value[first_position] + list_with_value[snd_position])/2\n",
        "\n",
        "        else:\n",
        "            position = int(n/2) \n",
        "            mediane = list_with_value[position]\n",
        "\n",
        "        #On va maintenant ramplacer les valeurs nulles par la médiane dans la nouvelle liste\n",
        "\n",
        "        for i in self.list:\n",
        "            if i is None:\n",
        "                i = mediane\n",
        "                new_list.append(i)\n",
        "            \n",
        "            else:\n",
        "                new_list.append(i)\n",
        "\n",
        "        print(\"Here is a list :\", self.list)\n",
        "        print(\"Here is the list with the empty values replaced by the median :\", new_list)\n",
        "        \n",
        "\n",
        "        "
      ]
    },
    {
      "cell_type": "code",
      "execution_count": 64,
      "metadata": {},
      "outputs": [
        {
          "name": "stdout",
          "output_type": "stream",
          "text": [
            "Here is a list [None, 2, 3, 12, 5, 6, None]\n",
            "Here is the list with the empty values replaced by the average value : [5.6, 2, 3, 12, 5, 6, 5.6]\n",
            "Here is a list : [None, 2, 3, 12, 5, 6, None]\n",
            "Here is the list with the empty values replaced by the median : [5, 2, 3, 12, 5, 6, 5]\n"
          ]
        }
      ],
      "source": [
        "liste = Imputer([None, 2, 3, 12, 5, 6, None])\n",
        "liste.average()\n",
        "liste.median()\n"
      ]
    },
    {
      "cell_type": "code",
      "execution_count": 2,
      "metadata": {
        "colab": {
          "base_uri": "https://localhost:8080/",
          "height": 86
        },
        "colab_type": "code",
        "id": "vWlNZ5nDrqPa",
        "outputId": "b80570c6-7d61-4ee6-8da0-deefadcf6f3e"
      },
      "outputs": [
        {
          "name": "stdout",
          "output_type": "stream",
          "text": [
            "Here is a list : [None, 2, 3, 12, 5, 6, None]\n",
            "Here is the list with the empty values replaced by the average value : [5.6, 2, 3, 12, 5, 6, 5.6]\n",
            "Here is a list : [None, 2, 3, 12, 5, 6, None]\n",
            "Here is the list with the empty values replaced by the median : [5, 2, 3, 12, 5, 6, 5]\n"
          ]
        }
      ],
      "source": []
    }
  ],
  "metadata": {
    "colab": {
      "collapsed_sections": [],
      "name": "Imputer - Exercice S1-3.ipynb",
      "provenance": [],
      "version": "0.3.2"
    },
    "kernelspec": {
      "display_name": "Python 3",
      "name": "python3"
    },
    "language_info": {
      "codemirror_mode": {
        "name": "ipython",
        "version": 3
      },
      "file_extension": ".py",
      "mimetype": "text/x-python",
      "name": "python",
      "nbconvert_exporter": "python",
      "pygments_lexer": "ipython3",
      "version": "3.12.1"
    }
  },
  "nbformat": 4,
  "nbformat_minor": 0
}
