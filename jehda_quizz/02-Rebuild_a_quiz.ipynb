{
 "cells": [
  {
   "cell_type": "markdown",
   "metadata": {},
   "source": [
    "# Build a quiz - Part 2"
   ]
  },
  {
   "cell_type": "markdown",
   "metadata": {},
   "source": [
    "Below is the code we wrote yesterday, that asks three questions to the user and allows up to 3 wrong answers :"
   ]
  },
  {
   "cell_type": "markdown",
   "metadata": {},
   "source": [
    "Ici se trouve mon code"
   ]
  },
  {
   "cell_type": "code",
   "execution_count": 3,
   "metadata": {},
   "outputs": [
    {
     "name": "stdout",
     "output_type": "stream",
     "text": [
      "Welcome to our quizz!\n",
      "You have 3 lives.\n",
      " \n",
      "Question: 1\n",
      "Your answer: 2\n",
      "Question: 2\n",
      "Your answer: 1784\n",
      "Dommage ! Il te reste 2 chances\n",
      "Your answer: 1976\n",
      "Question: 3\n",
      "Your answer: Elon Musk\n",
      "Ta réponse après la fonction .lower() est : elon musk\n",
      "Bravo ! Tu as gagné le quiz !\n"
     ]
    }
   ],
   "source": [
    "def quiz(dict):\n",
    "\n",
    "    print(\"Welcome to our quizz!\")\n",
    "    print(\"You have 3 lives.\")\n",
    "    print(\" \")\n",
    "\n",
    "    # déclaration des variables de numéro de question et du nombre de chances\n",
    "    q = 1\n",
    "    chance_number = 3\n",
    "\n",
    "    #la boucle for pour gérer le questionnaire sur chaque élément\n",
    "    for (quiz, value) in dict.items():\n",
    "\n",
    "        # Boucle qui permet de donner exactement trois chances à l'utilisateur\n",
    "            print(\"Question: {}\".format(q))\n",
    "\n",
    "            while chance_number > 0:\n",
    "                user_answer = input(quiz)\n",
    "                print(\"Your answer: {}\".format(user_answer))\n",
    "                \n",
    "                if type(value) == int:\n",
    "                    new_answer = int(user_answer)\n",
    "                    if new_answer == value:\n",
    "                        break\n",
    "                    else:\n",
    "                        chance_number -= 1\n",
    "                        print(\"Dommage ! Il te reste {} chances\".format(chance_number))\n",
    "                \n",
    "                else :\n",
    "                    new_answer = user_answer.lower()\n",
    "                    print(\"Ta réponse après la fonction .lower() est : {}\".format(new_answer))\n",
    "                    if new_answer == value:\n",
    "                        break\n",
    "                    else:\n",
    "                        chance_number -= 1\n",
    "                        print(\"Dommage ! Il te reste {} chances\".format(chance_number))\n",
    "                \n",
    "            q += 1 \n",
    "\n",
    "    if chance_number > 0:\n",
    "        print(\"Bravo ! Tu as gagné le quiz !\")  \n",
    "    else:\n",
    "        print(\"Oh non ! Tu as perdu le jeu...\")\n",
    "\n",
    "\n",
    "\n",
    "dict_quiz = quiz ({\n",
    "        'Combien de fois la France a gagné la coupe du monde ?' : 2,\n",
    "        'Quand a été fondé Apple ?': 1976,\n",
    "        'Qui a fondé SpaceX ?': 'elon musk'\n",
    "    })\n"
   ]
  },
  {
   "cell_type": "markdown",
   "metadata": {},
   "source": []
  },
  {
   "cell_type": "markdown",
   "metadata": {},
   "source": [
    "Let's refactor our quiz now that we know how to be dry.\n",
    "\n",
    "SPECs: \n",
    "\n",
    "* Your code should be DRY \n",
    "* You should use functions "
   ]
  }
 ],
 "metadata": {
  "kernelspec": {
   "display_name": "Python 3",
   "language": "python",
   "name": "python3"
  },
  "language_info": {
   "codemirror_mode": {
    "name": "ipython",
    "version": 3
   },
   "file_extension": ".py",
   "mimetype": "text/x-python",
   "name": "python",
   "nbconvert_exporter": "python",
   "pygments_lexer": "ipython3",
   "version": "3.12.1"
  },
  "orig_nbformat": 2
 },
 "nbformat": 4,
 "nbformat_minor": 2
}
