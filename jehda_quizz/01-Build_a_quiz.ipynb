{
 "cells": [
  {
   "cell_type": "markdown",
   "metadata": {
    "colab_type": "text",
    "id": "FY347VxWs_bJ"
   },
   "source": [
    "# Build a quizz\n",
    "\n",
    "---\n",
    "\n",
    "\n"
   ]
  },
  {
   "cell_type": "markdown",
   "metadata": {
    "colab_type": "text",
    "id": "qJizpyqVwYnF"
   },
   "source": [
    "Let's tackle our first project together. Find a partner and start coding a quiz together! Your program should: \n",
    "\n",
    "1. Ask a question to a user via the console \n",
    "2. Verify whether the answer is correct or not \n",
    "3. If the answer is correct, you should print out: `Good job! This is the right answer`\n",
    "\n",
    "* Else, it should print out : `Too bad! that is not the correct answer`\n",
    "\n",
    "4. Ask three questions following this model.\n",
    "\n"
   ]
  },
  {
   "cell_type": "code",
   "execution_count": 31,
   "metadata": {},
   "outputs": [
    {
     "name": "stdout",
     "output_type": "stream",
     "text": [
      "Here you have a quiz !\n",
      "-------\n",
      " \n",
      "Your answer: 3\n",
      "Too bad! That is not the correct answer\n",
      "Your answer: 2\n",
      "Too bad! That is not the correct answer\n",
      "Your answer: Elon Musk\n",
      "Your answer after .lower() function : elon musk\n",
      "Good job! This is the right answer\n"
     ]
    }
   ],
   "source": [
    "print(\"Here you have a quiz !\")\n",
    "print(\"-------\")\n",
    "print(\" \")\n",
    "\n",
    "dict_quiz = {\n",
    "    'How many letters have we in the word \"butterfly\" ?' : 9,\n",
    "    'How many letters have we in the word \"red\" ?': 3,\n",
    "    'Who is the founder of SpaceX ?': 'elon musk'\n",
    "}\n",
    "\n",
    "for (quiz, value) in dict_quiz.items():\n",
    "\n",
    "    user_answer = input(quiz)\n",
    "    print(\"Your answer: {}\".format(user_answer))\n",
    "    \n",
    "\n",
    "    if type(value) == int:\n",
    "        new_answer = int(user_answer)\n",
    "        if new_answer == value:\n",
    "            print(\"Good job! This is the right answer\")\n",
    "        else:\n",
    "            print(\"Too bad! That is not the correct answer\")\n",
    "\n",
    "    else :\n",
    "        new_answer = user_answer.lower()\n",
    "        print(\"Your answer after .lower() function : {}\".format(new_answer))\n",
    "        if new_answer == value:\n",
    "            print(\"Good job! This is the right answer\")\n",
    "        else:\n",
    "            print(\"Too bad! That is not the correct answer\")\n",
    "\n",
    "   "
   ]
  },
  {
   "cell_type": "markdown",
   "metadata": {
    "colab_type": "text",
    "id": "sLMbYgaOyxiX"
   },
   "source": [
    "There's a problem with our quizz : if the user has not given the right answer, the program goes to next question. We would rather like to ask again the same question if the answer was wrong.\n",
    "\n",
    "5. Using a `while` loop, make sure that the same question will be asked again when the answer was wrong\n",
    "\n",
    "6. Rewrite your code such that this behaviour is applied to all questions."
   ]
  },
  {
   "cell_type": "code",
   "execution_count": 40,
   "metadata": {},
   "outputs": [
    {
     "name": "stdout",
     "output_type": "stream",
     "text": [
      "Here you have a quiz !\n",
      "-------\n",
      " \n",
      "Question: 1\n",
      "Your answer: 3\n",
      "Too bad! That is not the correct answer\n",
      "Your answer: 2\n",
      "Good job! This is the right answer\n",
      " \n",
      "Question: 2\n",
      "Your answer: 1976\n",
      "Good job! This is the right answer\n",
      " \n",
      "Question: 2\n",
      "Your answer: elon musk\n",
      "Your answer after .lower() function : elon musk\n",
      "Good job! This is the right answer\n",
      " \n",
      "Well done! You are the quiz winner!\n"
     ]
    }
   ],
   "source": [
    "print(\"Here you have a quiz !\")\n",
    "print(\"-------\")\n",
    "print(\" \")\n",
    "\n",
    "dict_quiz = {\n",
    "    'What is the number ?' : 2,\n",
    "    'What is the year ?': 1976,\n",
    "    'Who is the founder of SpaceX ?': 'elon musk'\n",
    "}\n",
    "\n",
    "q = 1\n",
    "for (quiz, value) in dict_quiz.items():\n",
    "\n",
    "    print(\"Question: {}\".format(q))\n",
    "    while True :\n",
    "        user_answer = input(quiz)\n",
    "        print(\"Your answer: {}\".format(user_answer))\n",
    "        \n",
    "\n",
    "        if type(value) == int:\n",
    "            new_answer = int(user_answer)\n",
    "            if new_answer == value:\n",
    "                print(\"Good job! This is the right answer\")\n",
    "                break\n",
    "            else:\n",
    "                print(\"Too bad! That is not the correct answer\")\n",
    "\n",
    "        else :\n",
    "            new_answer = user_answer.lower()\n",
    "            print(\"Your answer after .lower() function : {}\".format(new_answer))\n",
    "            if new_answer == value:\n",
    "                print(\"Good job! This is the right answer\")\n",
    "                break\n",
    "            else:\n",
    "                print(\"Too bad! That is not the correct answer\")\n",
    "        q += 1\n",
    "    print(\" \")\n",
    "\n",
    "print(\"Well done! You are the quiz winner!\")"
   ]
  },
  {
   "cell_type": "markdown",
   "metadata": {
    "colab_type": "text",
    "id": "nh4voWn8x3dM"
   },
   "source": [
    "Now, we would like to tackle a last problem : we want to allow only 3 wrong answers (among all questions).\n",
    "\n",
    "7. Improve your code : if the user makes 3 wrong answers, the program should stop and print (\"Too bad, you lost the game !\")\n"
   ]
  },
  {
   "cell_type": "code",
   "execution_count": 11,
   "metadata": {},
   "outputs": [
    {
     "name": "stdout",
     "output_type": "stream",
     "text": [
      "Welcome to our quizz!\n",
      "You have 3 lives.\n",
      " \n",
      "Question: 1\n",
      "Your answer: 6\n",
      "Sorry, you have 2 chances left\n",
      "Your answer: 2\n",
      "Question: 2\n",
      "Your answer: 1980\n",
      "Sorry, you have 1 chances left\n",
      "Your answer: 1976\n",
      "Question: 3\n",
      "Your answer: steve jobs\n",
      "Your answer after .lower() function : steve jobs\n",
      "Sorry, you have 0 chances left\n",
      "Oh no, you lost the quiz...\n"
     ]
    }
   ],
   "source": [
    "print(\"Welcome to our quizz!\")\n",
    "print(\"You have 3 lives.\")\n",
    "print(\" \")\n",
    "\n",
    "dict_quiz = {\n",
    "    'What is the number ?' : 2,\n",
    "    'What is the year ?': 1976,\n",
    "    'Who is the founder of SpaceX ?': 'elon musk'\n",
    "}\n",
    "\n",
    "# déclaration des variables de numéro de question et du nombre de chances\n",
    "q = 1\n",
    "chance_number = 3\n",
    "\n",
    "#la boucle for pour gérer le questionnaire sur chaque élément\n",
    "for (quiz, value) in dict_quiz.items():\n",
    "\n",
    "    # Boucle qui permet de donner exactement trois chances à l'utilisateur\n",
    "        print(\"Question: {}\".format(q))\n",
    "\n",
    "        while chance_number > 0:\n",
    "            user_answer = input(quiz)\n",
    "            print(\"Your answer: {}\".format(user_answer))\n",
    "            \n",
    "            if type(value) == int:\n",
    "                new_answer = int(user_answer)\n",
    "                if new_answer == value:\n",
    "                    break\n",
    "                else:\n",
    "                    chance_number -= 1\n",
    "                    print(\"Sorry, you have {} chances left\".format(chance_number))\n",
    "            \n",
    "            else :\n",
    "                new_answer = user_answer.lower()\n",
    "                print(\"Your answer after .lower() function : {}\".format(new_answer))\n",
    "                if new_answer == value:\n",
    "                    break\n",
    "                else:\n",
    "                    chance_number -= 1\n",
    "                    print(\"Sorry, you have {} chances left\".format(chance_number))\n",
    "            \n",
    "        q += 1 \n",
    "print(\"Oh no, you lost the quiz...\") "
   ]
  },
  {
   "cell_type": "code",
   "execution_count": null,
   "metadata": {},
   "outputs": [],
   "source": []
  }
 ],
 "metadata": {
  "colab": {
   "name": "Construire un quiz - SOLUTIONS S1-1A.ipynb",
   "provenance": []
  },
  "kernelspec": {
   "display_name": "Python 3.7.6 64-bit (conda)",
   "metadata": {
    "interpreter": {
     "hash": "81922e58b9f0765dc46a2f2aae6246790c134fff12037142dafdcc4c4ca17485"
    }
   },
   "name": "python3"
  },
  "language_info": {
   "codemirror_mode": {
    "name": "ipython",
    "version": 3
   },
   "file_extension": ".py",
   "mimetype": "text/x-python",
   "name": "python",
   "nbconvert_exporter": "python",
   "pygments_lexer": "ipython3",
   "version": "3.12.1"
  }
 },
 "nbformat": 4,
 "nbformat_minor": 1
}
