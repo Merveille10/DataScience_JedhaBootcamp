{
 "cells": [
  {
   "cell_type": "markdown",
   "metadata": {},
   "source": [
    "# Create Functions"
   ]
  },
  {
   "cell_type": "markdown",
   "metadata": {},
   "source": [
    "Let's start with a simple function:\n",
    "\n",
    "* Declare a function that returns the square root of a number. We'll call it `sqrt()`.\n",
    "* Execute the function to compute the square root of 25 and print the resultLet's start with a simple function:"
   ]
  },
  {
   "cell_type": "code",
   "execution_count": 4,
   "metadata": {
    "tags": []
   },
   "outputs": [
    {
     "name": "stdout",
     "output_type": "stream",
     "text": [
      "The result is : 12.0\n"
     ]
    }
   ],
   "source": [
    "def sqrt(number):\n",
    "    for i in range (number):\n",
    "        if i * i == number :\n",
    "            print(\"The result is : {:4.1f}\".format(i))\n",
    "\n",
    "carre = sqrt(144)"
   ]
  },
  {
   "cell_type": "code",
   "execution_count": 1,
   "metadata": {},
   "outputs": [
    {
     "name": "stdout",
     "output_type": "stream",
     "text": [
      "The result is : 5.0\n"
     ]
    }
   ],
   "source": [
    "def sqrt(number):\n",
    "    number = number ** (1/2)\n",
    "    return number\n",
    "\n",
    "result = sqrt(25)\n",
    "\n",
    "print(\"The result is : {}\".format(result))"
   ]
  },
  {
   "cell_type": "code",
   "execution_count": null,
   "metadata": {},
   "outputs": [],
   "source": []
  }
 ],
 "metadata": {
  "kernelspec": {
   "display_name": "Python 3",
   "name": "python3"
  },
  "language_info": {
   "codemirror_mode": {
    "name": "ipython",
    "version": 3
   },
   "file_extension": ".py",
   "mimetype": "text/x-python",
   "name": "python",
   "nbconvert_exporter": "python",
   "pygments_lexer": "ipython3",
   "version": "3.12.1"
  },
  "orig_nbformat": 2
 },
 "nbformat": 4,
 "nbformat_minor": 2
}
