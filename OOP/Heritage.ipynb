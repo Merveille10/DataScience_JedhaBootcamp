{
 "cells": [
  {
   "cell_type": "code",
   "execution_count": 2,
   "metadata": {},
   "outputs": [],
   "source": [
    "class Basic():\n",
    "    def __init__(self, a, b):\n",
    "        self.a = a \n",
    "        self.b = b\n",
    "    \n",
    "    def sum(self):\n",
    "        return self.a + self.b\n",
    "    \n",
    "    def substr(self):\n",
    "        return self.a - self.b\n",
    "    \n"
   ]
  },
  {
   "cell_type": "code",
   "execution_count": 14,
   "metadata": {},
   "outputs": [],
   "source": [
    "class Children(Basic):\n",
    "\n",
    "    def __init__(self, a, b, c):\n",
    "        super().__init__(a, b)\n",
    "        self.c = c\n",
    "\n",
    "    \n",
    "    def mult(self):\n",
    "        return self.a * self.b\n",
    "    \n",
    "    def compare(self):\n",
    "        result = self.mult()\n",
    "\n",
    "        if result > self.c:\n",
    "            return '{} * {} is greater than {}'.format(self.a, self.b, self.c)\n",
    "        else:\n",
    "            return '{} * {} is lower than {}'.format(self.a, self.b, self.c)"
   ]
  },
  {
   "cell_type": "code",
   "execution_count": 18,
   "metadata": {},
   "outputs": [
    {
     "name": "stdout",
     "output_type": "stream",
     "text": [
      "200\n",
      "-10\n",
      "10 * 20 is lower than 500\n"
     ]
    }
   ],
   "source": [
    "math = Children(10, 20, 500)\n",
    "print(math.mult())\n",
    "print(math.substr())\n",
    "print(math.compare())\n",
    "\n",
    "\n",
    "\n"
   ]
  },
  {
   "cell_type": "code",
   "execution_count": null,
   "metadata": {},
   "outputs": [],
   "source": []
  }
 ],
 "metadata": {
  "kernelspec": {
   "display_name": "Python 3",
   "language": "python",
   "name": "python3"
  },
  "language_info": {
   "codemirror_mode": {
    "name": "ipython",
    "version": 3
   },
   "file_extension": ".py",
   "mimetype": "text/x-python",
   "name": "python",
   "nbconvert_exporter": "python",
   "pygments_lexer": "ipython3",
   "version": "3.12.1"
  }
 },
 "nbformat": 4,
 "nbformat_minor": 2
}
