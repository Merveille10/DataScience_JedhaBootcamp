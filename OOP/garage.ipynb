{
 "cells": [
  {
   "cell_type": "code",
   "execution_count": 19,
   "metadata": {},
   "outputs": [],
   "source": [
    "# Definition of the class with its attributes and methods\n",
    "\n",
    "class Garage():\n",
    "    # Attribute initialization - using a special method : __init__()\n",
    "    # Here, default arguments have been added\n",
    "    def __init__(self, employees = 0, clients = 0, cars_to_repair = 0, cars_repaired = 0): \n",
    "        self.employees = employees\n",
    "        self.clients = clients\n",
    "        self.cars_to_repair = cars_to_repair\n",
    "        self.cars_repaired = cars_repaired\n",
    "    \n",
    "    # Declaration/definition of methods\n",
    "    def recrute_employees(self, number_employees):\n",
    "        self.employees += number_employees\n",
    "    \n",
    "    def dismissed_employee(self, number_employees):\n",
    "        if number_employees > self.employees:\n",
    "            raise ValueError(\"There are currently {} employees in the garage. You can't fire any of them. {}\"\n",
    "                            .format(self.employees, number_employees))\n",
    "        self.employees -= number_employees\n",
    "        \n",
    "    def client_bring_cars(self, number_cars, new_client): \n",
    "        self.cars_to_repair += number_cars\n",
    "        if new_client: \n",
    "            self.clients += 1  \n",
    "        \n",
    "    def cars_repaired(self, nb_cars):\n",
    "        if nb_cars > self.cars_to_repair :\n",
    "            raise ValueError(\"There are currently {} cars in the garage. You can't fix them. {}\"\n",
    "                            .format(self.cars_to_repair, nb_cars))\n",
    "        self.cars_repaired += nb_cars\n",
    "        self.cars_to_repair -= nb_cars\n",
    "        \n",
    "    def display_information(self):\n",
    "        print(\"Employees : \", self.employees)\n",
    "        print(\"Clients : \", self.clients)\n",
    "        print(\"Cars to repair : \", self.cars_to_repair)\n",
    "        print(\"Cars repaired : \", self.cars_repaired)"
   ]
  },
  {
   "cell_type": "code",
   "execution_count": 20,
   "metadata": {},
   "outputs": [
    {
     "name": "stdout",
     "output_type": "stream",
     "text": [
      "Employees:  0\n",
      "Employees:  2\n"
     ]
    },
    {
     "ename": "ValueError",
     "evalue": "Vous n'avez pas au moins 5 employés dans le garage.                              Vous ne pouvez donc pas les supprimer.",
     "output_type": "error",
     "traceback": [
      "\u001b[1;31m---------------------------------------------------------------------------\u001b[0m",
      "\u001b[1;31mValueError\u001b[0m                                Traceback (most recent call last)",
      "Cell \u001b[1;32mIn[20], line 5\u001b[0m\n\u001b[0;32m      3\u001b[0m garage1\u001b[38;5;241m.\u001b[39mrecrute_employees(\u001b[38;5;241m2\u001b[39m)\n\u001b[0;32m      4\u001b[0m garage1\u001b[38;5;241m.\u001b[39mdisplay_employees()\n\u001b[1;32m----> 5\u001b[0m \u001b[43mgarage1\u001b[49m\u001b[38;5;241;43m.\u001b[39;49m\u001b[43mdismissed_employees\u001b[49m\u001b[43m(\u001b[49m\u001b[38;5;241;43m5\u001b[39;49m\u001b[43m)\u001b[49m\n\u001b[0;32m      6\u001b[0m garage1\u001b[38;5;241m.\u001b[39mdisplay_employees()\n",
      "Cell \u001b[1;32mIn[19], line 10\u001b[0m, in \u001b[0;36mGarage.dismissed_employees\u001b[1;34m(self, number_employees)\u001b[0m\n\u001b[0;32m      8\u001b[0m \u001b[38;5;28;01mdef\u001b[39;00m \u001b[38;5;21mdismissed_employees\u001b[39m(\u001b[38;5;28mself\u001b[39m, number_employees):\n\u001b[0;32m      9\u001b[0m     \u001b[38;5;28;01mif\u001b[39;00m \u001b[38;5;28mself\u001b[39m\u001b[38;5;241m.\u001b[39memployees \u001b[38;5;241m<\u001b[39m number_employees:\n\u001b[1;32m---> 10\u001b[0m         \u001b[38;5;28;01mraise\u001b[39;00m \u001b[38;5;167;01mValueError\u001b[39;00m(\u001b[38;5;124m\"\u001b[39m\u001b[38;5;124mVous n\u001b[39m\u001b[38;5;124m'\u001b[39m\u001b[38;5;124mavez pas au moins \u001b[39m\u001b[38;5;132;01m{}\u001b[39;00m\u001b[38;5;124m employés dans le garage. \u001b[39m\u001b[38;5;130;01m\\\u001b[39;00m\n\u001b[0;32m     11\u001b[0m \u001b[38;5;124m                         Vous ne pouvez donc pas les supprimer.\u001b[39m\u001b[38;5;124m\"\u001b[39m\u001b[38;5;241m.\u001b[39mformat(number_employees))\n\u001b[0;32m     12\u001b[0m     \u001b[38;5;28;01melse\u001b[39;00m: \n\u001b[0;32m     13\u001b[0m         \u001b[38;5;28mself\u001b[39m\u001b[38;5;241m.\u001b[39memployees \u001b[38;5;241m-\u001b[39m\u001b[38;5;241m=\u001b[39m number_employees\n",
      "\u001b[1;31mValueError\u001b[0m: Vous n'avez pas au moins 5 employés dans le garage.                              Vous ne pouvez donc pas les supprimer."
     ]
    }
   ],
   "source": [
    "garage1 = Garage()\n",
    "garage1.display_employees()\n",
    "garage1.recrute_employees(2)\n",
    "garage1.display_employees()\n",
    "garage1.dismissed_employees(5)\n",
    "garage1.display_employees()\n",
    "\n",
    "\n"
   ]
  },
  {
   "cell_type": "code",
   "execution_count": null,
   "metadata": {},
   "outputs": [],
   "source": []
  }
 ],
 "metadata": {
  "kernelspec": {
   "display_name": "Python 3",
   "language": "python",
   "name": "python3"
  },
  "language_info": {
   "codemirror_mode": {
    "name": "ipython",
    "version": 3
   },
   "file_extension": ".py",
   "mimetype": "text/x-python",
   "name": "python",
   "nbconvert_exporter": "python",
   "pygments_lexer": "ipython3",
   "version": "3.12.1"
  }
 },
 "nbformat": 4,
 "nbformat_minor": 2
}
