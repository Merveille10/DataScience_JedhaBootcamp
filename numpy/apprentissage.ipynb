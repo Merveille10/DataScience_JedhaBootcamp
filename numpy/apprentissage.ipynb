{
 "cells": [
  {
   "cell_type": "code",
   "execution_count": 72,
   "metadata": {},
   "outputs": [],
   "source": [
    "import numpy as np"
   ]
  },
  {
   "cell_type": "code",
   "execution_count": 73,
   "metadata": {},
   "outputs": [
    {
     "name": "stdout",
     "output_type": "stream",
     "text": [
      "[1 2 3 4 5]\n"
     ]
    }
   ],
   "source": [
    "A = np.array([1,2,3,4,5], dtype=int)\n",
    "print(A)"
   ]
  },
  {
   "cell_type": "code",
   "execution_count": 74,
   "metadata": {},
   "outputs": [
    {
     "name": "stdout",
     "output_type": "stream",
     "text": [
      "int32\n"
     ]
    }
   ],
   "source": [
    "B = np.array([1,2,3,4])\n",
    "print(B.dtype)"
   ]
  },
  {
   "cell_type": "code",
   "execution_count": 75,
   "metadata": {},
   "outputs": [
    {
     "name": "stdout",
     "output_type": "stream",
     "text": [
      "[[1 2 3]\n",
      " [4 5 6]]\n"
     ]
    }
   ],
   "source": [
    "C = np.array([[1,2,3], [4,5,6]])\n",
    "print(C)"
   ]
  },
  {
   "cell_type": "code",
   "execution_count": 76,
   "metadata": {},
   "outputs": [
    {
     "name": "stdout",
     "output_type": "stream",
     "text": [
      "[[[ 1  2  3]\n",
      "  [ 4  5  6]]\n",
      "\n",
      " [[ 7  8  9]\n",
      "  [10 11 12]]]\n",
      "(2, 2, 3)\n"
     ]
    }
   ],
   "source": [
    "D = np.array([[[1,2,3], [4,5,6]], [[7,8,9], [10,11,12]]])\n",
    "print(D)\n",
    "print(D.shape)"
   ]
  },
  {
   "cell_type": "code",
   "execution_count": 77,
   "metadata": {},
   "outputs": [
    {
     "name": "stdout",
     "output_type": "stream",
     "text": [
      "[2 3 5]\n",
      "Shape of vector:  (3,)\n"
     ]
    }
   ],
   "source": [
    "vector = np.array([2,3,5])\n",
    "print(vector)\n",
    "print(\"Shape of vector: \", vector.shape)"
   ]
  },
  {
   "cell_type": "code",
   "execution_count": 78,
   "metadata": {},
   "outputs": [
    {
     "name": "stdout",
     "output_type": "stream",
     "text": [
      "[[ 1  2]\n",
      " [-1  3]\n",
      " [ 0  4]]\n",
      "Matrix shape: (3, 2)\n"
     ]
    }
   ],
   "source": [
    "matrix = np.array([[1,2],\n",
    "                   [-1,3],\n",
    "                   [0,4]])\n",
    "print(matrix)\n",
    "print(\"Matrix shape:\", matrix.shape)"
   ]
  },
  {
   "cell_type": "code",
   "execution_count": 79,
   "metadata": {},
   "outputs": [
    {
     "name": "stdout",
     "output_type": "stream",
     "text": [
      "vector u: \n",
      "[6 0 2]\n",
      "vector v: \n",
      "[-1 -2  3]\n",
      "\n",
      "Additon operation: \n",
      "[ 5 -2  5]\n",
      "\n",
      "Substraction: \n",
      "[ 7  2 -1]\n",
      "\n",
      "Scaling u by factor 3: \n",
      "[18  0  6]\n",
      "\n",
      "Multiplication : \n",
      "[-6  0  6]\n",
      "\n",
      "Then we will perform the calculation of the norm of u !\n",
      "6.324555320336759\n",
      "\n",
      "Another way to calculate the norm with the linalg module of numpy !\n",
      "6.324555320336759\n",
      "\n",
      "Then we will calculate the norm of v: \n",
      "The norm of v is:  3.7416573867739413\n",
      "\n",
      "Dot product of u and v\n",
      "0\n",
      "\n"
     ]
    }
   ],
   "source": [
    "#Vectors operations\n",
    "u_vec = np.array([6,0,2])\n",
    "v_vec = np.array([-1,-2,3])\n",
    "print(\"vector u: \")\n",
    "print(u_vec)\n",
    "print(\"vector v: \")\n",
    "print(v_vec)\n",
    "print()\n",
    "\n",
    "#perform operations\n",
    "print(\"Additon operation: \")\n",
    "print(u_vec + v_vec)\n",
    "print()\n",
    "\n",
    "print(\"Substraction: \")\n",
    "print(u_vec - v_vec)\n",
    "print()\n",
    "\n",
    "print(\"Scaling u by factor 3: \")\n",
    "print(3*u_vec)\n",
    "print()\n",
    "\n",
    "print(\"Multiplication : \")\n",
    "print(u_vec * v_vec)\n",
    "print()\n",
    "\n",
    "#Norm of u\n",
    "print(\"Then we will perform the calculation of the norm of u !\")\n",
    "u_norm = ((u_vec[0]**2) + (u_vec[1]**2) + (u_vec[2]**2)) ** (1/2)\n",
    "print(u_norm)\n",
    "print()\n",
    "\n",
    "print(\"Another way to calculate the norm with the linalg module of numpy !\")\n",
    "print(np.linalg.norm(u_vec)) #we are using the norm function\n",
    "print()\n",
    "print(\"Then we will calculate the norm of v: \")\n",
    "print(\"The norm of v is: \", np.linalg.norm(v_vec))\n",
    "print()\n",
    "\n",
    "#Dot product of u and v\n",
    "print(\"Dot product of u and v\")\n",
    "print(u_vec.dot(v_vec))\n",
    "print()"
   ]
  },
  {
   "cell_type": "markdown",
   "metadata": {},
   "source": [
    "Maintenant je ferai des opérations avec les matrices"
   ]
  },
  {
   "cell_type": "code",
   "execution_count": 80,
   "metadata": {},
   "outputs": [
    {
     "name": "stdout",
     "output_type": "stream",
     "text": [
      "Matrix A: \n",
      "[[1 2 3]\n",
      " [4 5 6]\n",
      " [7 8 9]]\n",
      "Matrix B: \n",
      "[[10 10 10]\n",
      " [20 20 20]\n",
      " [30 30 30]]\n",
      "--------------------------------------------------------------\n",
      "\n",
      "Addition: \n",
      "[[11 12 13]\n",
      " [24 25 26]\n",
      " [37 38 39]]\n",
      "\n",
      "Substraction: \n",
      "[[ -9  -8  -7]\n",
      " [-16 -15 -14]\n",
      " [-23 -22 -21]]\n",
      "\n",
      "Scalling A by a factor 2: \n",
      "[[ 2  4  6]\n",
      " [ 8 10 12]\n",
      " [14 16 18]]\n",
      "\n"
     ]
    }
   ],
   "source": [
    "A_mat = np.array([[1,2,3],\n",
    "                  [4,5,6],\n",
    "                  [7,8,9]])\n",
    "\n",
    "B_mat = np.array([[10,10,10],\n",
    "                  [20,20,20],\n",
    "                  [30,30,30]])\n",
    "\n",
    "print(\"Matrix A: \")\n",
    "print(A_mat)\n",
    "print(\"Matrix B: \")\n",
    "print(B_mat)\n",
    "print(\"--------------------------------------------------------------\")\n",
    "print()\n",
    "\n",
    "print(\"Addition: \")\n",
    "print(A_mat + B_mat)\n",
    "print()\n",
    "\n",
    "print(\"Substraction: \")\n",
    "print(A_mat - B_mat)\n",
    "print()\n",
    "\n",
    "print(\"Scalling A by a factor 2: \")\n",
    "print(2 * A_mat)\n",
    "print()"
   ]
  },
  {
   "cell_type": "markdown",
   "metadata": {},
   "source": [
    "Produit de matrices"
   ]
  },
  {
   "cell_type": "code",
   "execution_count": 81,
   "metadata": {},
   "outputs": [
    {
     "name": "stdout",
     "output_type": "stream",
     "text": [
      "[[1 2 3]\n",
      " [4 5 6]\n",
      " [7 8 9]]\n",
      "\n",
      "[[10 10 10]\n",
      " [20 20 20]\n",
      " [30 30 30]]\n",
      "\n",
      "Matrix product AB with the @ operator\n",
      "[[140 140 140]\n",
      " [320 320 320]\n",
      " [500 500 500]]\n",
      "\n",
      "Matrix product BA with @\n",
      "[[120 150 180]\n",
      " [240 300 360]\n",
      " [360 450 540]]\n",
      "\n",
      "AB is not equal to BA\n",
      "\n",
      "Matrix multiplication with the dot product\n",
      "Matrix AB with dot\n",
      "[[140 140 140]\n",
      " [320 320 320]\n",
      " [500 500 500]]\n",
      "\n",
      "Matrix BA with dot\n",
      "[[120 150 180]\n",
      " [240 300 360]\n",
      " [360 450 540]]\n",
      "\n"
     ]
    }
   ],
   "source": [
    "print(A_mat)\n",
    "print()\n",
    "print(B_mat)\n",
    "print()\n",
    "\n",
    "print(\"Matrix product AB with the @ operator\")\n",
    "print(A_mat @ B_mat)\n",
    "print()\n",
    "print(\"Matrix product BA with @\")\n",
    "print(B_mat @ A_mat)\n",
    "print()\n",
    "print(\"AB is not equal to BA\")\n",
    "print()\n",
    "\n",
    "print(\"Matrix multiplication with the dot product\")\n",
    "print(\"Matrix AB with dot\")\n",
    "print(A_mat.dot(B_mat))\n",
    "print()\n",
    "\n",
    "print(\"Matrix BA with dot\")\n",
    "print(B_mat.dot(A_mat))\n",
    "print()"
   ]
  },
  {
   "cell_type": "code",
   "execution_count": 82,
   "metadata": {},
   "outputs": [
    {
     "name": "stdout",
     "output_type": "stream",
     "text": [
      "Taille de la matrice C:  (3, 2)\n",
      "\n",
      "Taille du vecteur x:  (2,)\n",
      "\n",
      "Réalisons le produit de cette matrice et de se vecteur: \n",
      "Le produit Cx donne un nouveau vecteur y de taille:  (3,)\n",
      "[ 1  7 13]\n"
     ]
    }
   ],
   "source": [
    "C_mat = np.array([[1, 2],\n",
    "                  [3, 4],\n",
    "                  [5, 6]])\n",
    "\n",
    "x_vec = np.array([5, -2])\n",
    "\n",
    "print(\"Taille de la matrice C: \", C_mat.shape)\n",
    "print()\n",
    "print(\"Taille du vecteur x: \", x_vec.shape)\n",
    "print()\n",
    "\n",
    "print(\"Réalisons le produit de cette matrice et de se vecteur: \")\n",
    "\n",
    "y_vec = C_mat @ x_vec\n",
    "print(\"Le produit Cx donne un nouveau vecteur y de taille: \", y_vec.shape)\n",
    "print(y_vec)"
   ]
  },
  {
   "cell_type": "code",
   "execution_count": 83,
   "metadata": {},
   "outputs": [
    {
     "name": "stdout",
     "output_type": "stream",
     "text": [
      "Matrix A: \n",
      "[[1 2 3]\n",
      " [4 5 6]\n",
      " [7 8 9]]\n",
      "Transposée de A: \n",
      "[[1 4 7]\n",
      " [2 5 8]\n",
      " [3 6 9]]\n",
      "\n",
      "Matrix B: \n",
      "[[10 10 10]\n",
      " [20 20 20]\n",
      " [30 30 30]]\n",
      "Transposée de B: \n",
      "[[10 20 30]\n",
      " [10 20 30]\n",
      " [10 20 30]]\n",
      "\n",
      "Transposée(AB): \n",
      "[[140 320 500]\n",
      " [140 320 500]\n",
      " [140 320 500]]\n",
      "\n",
      "Transposée(B) @ Transposée(A)\n",
      "[[140 320 500]\n",
      " [140 320 500]\n",
      " [140 320 500]]\n"
     ]
    }
   ],
   "source": [
    "print(\"Matrix A: \")\n",
    "print(A_mat)\n",
    "print(\"Transposée de A: \")\n",
    "print(A_mat.T) # .T permet d'avoir la transposée de A\n",
    "print()\n",
    "print(\"Matrix B: \")\n",
    "print(B_mat)\n",
    "print(\"Transposée de B: \")\n",
    "print(B_mat.T)\n",
    "print()\n",
    "\n",
    "print(\"Transposée(AB): \")\n",
    "print((A_mat @ B_mat).T)\n",
    "print()\n",
    "\n",
    "print(\"Transposée(B) @ Transposée(A)\")\n",
    "print((B_mat.T) @ (A_mat.T))"
   ]
  },
  {
   "cell_type": "markdown",
   "metadata": {},
   "source": [
    "Matrice identité"
   ]
  },
  {
   "cell_type": "code",
   "execution_count": 84,
   "metadata": {},
   "outputs": [
    {
     "name": "stdout",
     "output_type": "stream",
     "text": [
      "Matrice identité I: \n",
      "[[1 0 0]\n",
      " [0 1 0]\n",
      " [0 0 1]]\n",
      "matrix A: \n",
      "[[1 2 3]\n",
      " [4 5 6]\n",
      " [7 8 9]]\n",
      "\n",
      "IA: \n",
      "[[1 2 3]\n",
      " [4 5 6]\n",
      " [7 8 9]]\n",
      "\n",
      "AI: \n",
      "[[1 2 3]\n",
      " [4 5 6]\n",
      " [7 8 9]]\n"
     ]
    }
   ],
   "source": [
    "#déclaration d'une matrice identité d'ordre 3\n",
    "id_mat  = np.identity(3, dtype='int')\n",
    "print(\"Matrice identité I: \")\n",
    "print(id_mat)\n",
    "print(\"matrix A: \")\n",
    "print(A_mat)\n",
    "print()\n",
    "\n",
    "print(\"IA: \")\n",
    "print(A_mat @ id_mat)\n",
    "print()\n",
    "print(\"AI: \")\n",
    "print(id_mat @ A_mat)"
   ]
  },
  {
   "cell_type": "code",
   "execution_count": 85,
   "metadata": {},
   "outputs": [
    {
     "name": "stdout",
     "output_type": "stream",
     "text": [
      "Matrice D: \n",
      "[[ 3  0  2]\n",
      " [ 2  0 -2]\n",
      " [ 0  1  1]]\n",
      "\n",
      "Inverse de D: \n",
      "[[ 0.2  0.2  0. ]\n",
      " [-0.2  0.3  1. ]\n",
      " [ 0.2 -0.3 -0. ]]\n",
      "\n",
      "Faisons le produit de D par son inverse: \n",
      "[[ 1.  0.  0.]\n",
      " [-0.  1.  0.]\n",
      " [ 0.  0.  1.]]\n",
      "\n",
      "[[ 1.  0. -0.]\n",
      " [ 0.  1.  0.]\n",
      " [ 0.  0.  1.]]\n"
     ]
    }
   ],
   "source": [
    "print(\"Matrice D: \")\n",
    "D_mat = np.array([[3,0,2],\n",
    "                  [2,0,-2],\n",
    "                  [0,1,1]], dtype= int)\n",
    "print(D_mat)\n",
    "print()\n",
    "print(\"Inverse de D: \")\n",
    "D_inv_mat = np.linalg.inv(D_mat )\n",
    "print(D_inv_mat)\n",
    "print()\n",
    "\n",
    "print(\"Faisons le produit de D par son inverse: \")\n",
    "print((D_mat @ D_inv_mat).round(2))\n",
    "print()\n",
    "print((D_inv_mat @ D_mat).round(2))"
   ]
  },
  {
   "cell_type": "code",
   "execution_count": 86,
   "metadata": {},
   "outputs": [
    {
     "name": "stdout",
     "output_type": "stream",
     "text": [
      "Matrix U\n",
      "[[ 0.66666667 -0.66666667  0.33333333]\n",
      " [ 0.33333333  0.66666667  0.66666667]\n",
      " [ 0.66666667  0.33333333 -0.66666667]]\n",
      "\n",
      "Transposée de U\n",
      "[[ 0.66666667  0.33333333  0.66666667]\n",
      " [-0.66666667  0.66666667  0.33333333]\n",
      " [ 0.33333333  0.66666667 -0.66666667]]\n",
      "Produit de U et de U.T\n",
      "[[1. 0. 0.]\n",
      " [0. 1. 0.]\n",
      " [0. 0. 1.]]\n"
     ]
    }
   ],
   "source": [
    "U_mat = np.array([[2/3, -2/3, 1/3],\n",
    "                  [1/3, 2/3, 2/3],\n",
    "                  [2/3, 1/3, -2/3]])\n",
    "print(\"Matrix U\")\n",
    "print(U_mat)\n",
    "print()\n",
    "\n",
    "print(\"Transposée de U\")\n",
    "print(U_mat.T)\n",
    "\n",
    "print(\"Produit de U et de U.T\")\n",
    "print((U_mat @ U_mat.T).round(2))"
   ]
  },
  {
   "cell_type": "markdown",
   "metadata": {},
   "source": [
    "Résolution d'une équation avec des matrices pour trouver les inconus x"
   ]
  },
  {
   "cell_type": "code",
   "execution_count": 87,
   "metadata": {},
   "outputs": [
    {
     "name": "stdout",
     "output_type": "stream",
     "text": [
      "Matrix A:\n",
      "[[1 2]\n",
      " [3 9]]\n",
      "Vector b:\n",
      "[ 5 21]\n",
      "\n",
      "-- Method 1 --\n",
      "Solution of equation Ax = b:\n",
      "x =  [1. 2.]\n",
      "\n",
      "-- Method 2 --\n",
      "Solution of equation Ax = b:\n",
      "x =  [1. 2.]\n"
     ]
    }
   ],
   "source": [
    "A_mat = np.array([[1, 2],\n",
    "                  [3, 9]])\n",
    "b_vec = np.array([5, 21])\n",
    "print(\"Matrix A:\")\n",
    "print(A_mat)\n",
    "print(\"Vector b:\")\n",
    "print(b_vec)\n",
    "print()\n",
    "\n",
    "## Method 1\n",
    "print(\"-- Method 1 --\")\n",
    "# Compute inverse of matrix A\n",
    "A_mat_inv = np.linalg.inv(A_mat)\n",
    "# Solve equation\n",
    "x_vec = A_mat_inv @ b_vec\n",
    "print(\"Solution of equation Ax = b:\")\n",
    "print(\"x = \", x_vec)\n",
    "print()\n",
    "\n",
    "## Method 2 : with np.linalg.solve\n",
    "print(\"-- Method 2 --\")\n",
    "x_vec = np.linalg.solve(A_mat, b_vec)\n",
    "print(\"Solution of equation Ax = b:\")\n",
    "print(\"x = \", x_vec)"
   ]
  },
  {
   "cell_type": "code",
   "execution_count": 88,
   "metadata": {},
   "outputs": [
    {
     "name": "stdout",
     "output_type": "stream",
     "text": [
      "Exponentiel de 1:  2.718281828459045\n",
      "Exponentiel de 0:  1.0\n",
      "logarithme népérien de 10:  2.302585092994046\n",
      "Logarithme népérien en base 10 de 10:  1.0\n"
     ]
    }
   ],
   "source": [
    "print(\"Exponentiel de 1: \", np.exp(1))\n",
    "print(\"Exponentiel de 0: \", np.exp(0))\n",
    "print(\"logarithme népérien de 10: \", np.log(10))\n",
    "print(\"Logarithme népérien en base 10 de 10: \", np.log10(10))"
   ]
  },
  {
   "cell_type": "code",
   "execution_count": 89,
   "metadata": {},
   "outputs": [
    {
     "name": "stdout",
     "output_type": "stream",
     "text": [
      "Cosinus de 0:  1.0\n",
      "Cosinus de pi:  -1.0\n",
      "Cosinus de pi/2:  0.0\n",
      "\n",
      "Sinus de 0:  0.0\n",
      "Sinus de pi:  0.0\n",
      "Sinus de pi/2:  0.0\n",
      "\n",
      "tangeante de 0:  0.0\n",
      "tangeante de pi:  -0.0\n",
      "tangeante de pi/2:  1.6331239353195368e+16\n"
     ]
    }
   ],
   "source": [
    "print(\"Cosinus de 0: \", np.cos(0))\n",
    "print(\"Cosinus de pi: \", np.cos(np.pi))\n",
    "print(\"Cosinus de pi/2: \", np.cos(np.pi/2).round(2))\n",
    "print()\n",
    "\n",
    "print(\"Sinus de 0: \", np.sin(0))\n",
    "print(\"Sinus de pi: \", np.sin(np.pi).round(2))\n",
    "print(\"Sinus de pi/2: \", np.sin(np.pi).round(2))\n",
    "print()\n",
    "\n",
    "print(\"tangeante de 0: \", np.tan(0))\n",
    "print(\"tangeante de pi: \", np.tan(np.pi).round(2))\n",
    "print(\"tangeante de pi/2: \", np.tan(np.pi/2).round(2))\n"
   ]
  },
  {
   "cell_type": "code",
   "execution_count": 90,
   "metadata": {},
   "outputs": [
    {
     "name": "stdout",
     "output_type": "stream",
     "text": [
      "Échantillon de 30 valeurs aléatoires tirées d'une distribution uniforme discrète sur [0, 10]:\n",
      "[3 0 3 5 0 2 3 8 1 3 3 3 7 0 1 9 9 0 4 7 3 2 7 2 0 0 4 5 5 6]\n"
     ]
    }
   ],
   "source": [
    "print(\"Échantillon de 30 valeurs aléatoires tirées d'une distribution uniforme discrète sur [0, 10]:\")\n",
    "print(np.random.randint(0, 10, 30))\n"
   ]
  },
  {
   "cell_type": "code",
   "execution_count": 91,
   "metadata": {},
   "outputs": [
    {
     "name": "stdout",
     "output_type": "stream",
     "text": [
      "echantillon de 20 nombres aléatoires tirés en de -2 et 2:\n",
      "[-2 -2 -1  1 -2 -1  0  0  1 -2 -1 -1  1 -1 -1  1  0  1  1  0]\n"
     ]
    }
   ],
   "source": [
    "print(\"echantillon de 20 nombres aléatoires tirés en de -2 et 2:\")\n",
    "print(np.random.randint(-2, 2, 20))"
   ]
  },
  {
   "cell_type": "code",
   "execution_count": 92,
   "metadata": {},
   "outputs": [
    {
     "name": "stdout",
     "output_type": "stream",
     "text": [
      "Un exemple de distribution uniforme continue entre 0 et 10:\n",
      "[3.58152167 7.50686141 6.07830669 3.25047229 0.38425426 6.34274058\n",
      " 9.58949269 6.52790317 6.35058874 9.95299568 5.81850329 4.14368588\n",
      " 4.74697502 6.23510101 3.38007615 6.74752322 3.17201742 7.78345482\n",
      " 9.49571053 6.62526867]\n"
     ]
    }
   ],
   "source": [
    "print(\"Un exemple de distribution uniforme continue entre 0 et 10:\")\n",
    "print(np.random.uniform(0,10,20))"
   ]
  },
  {
   "cell_type": "code",
   "execution_count": 93,
   "metadata": {},
   "outputs": [
    {
     "name": "stdout",
     "output_type": "stream",
     "text": [
      "Échantillon de 20 valeurs aléatoires tirées d'une distribution normale de moyenne 5 et standard 2: \n",
      "[5.0537385  7.11167427 4.85363315 3.66855868 4.91177518 4.27346596\n",
      " 4.97531037 5.08424298 8.91859178 4.60314861 5.66106881 2.12834319\n",
      " 5.05505663 7.24120931 4.55192244 4.15963322 6.99965939 5.8620683\n",
      " 3.69817426 2.00251923]\n"
     ]
    }
   ],
   "source": [
    "print(\"Échantillon de 20 valeurs aléatoires tirées d'une distribution normale de moyenne 5 et standard 2: \")\n",
    "print(np.random.normal(5, 2, 20))"
   ]
  },
  {
   "cell_type": "code",
   "execution_count": 94,
   "metadata": {},
   "outputs": [
    {
     "name": "stdout",
     "output_type": "stream",
     "text": [
      "[-1.23  0.19 -1.   -0.37  1.74  0.59 -0.54 -1.72 -0.58  1.43  0.28  0.79\n",
      "  0.32  0.7   0.39 -0.04  0.3  -0.43  1.73 -0.87 -0.82 -1.1   0.09  0.46\n",
      "  0.43  2.07 -0.54 -1.38 -0.49  2.33]\n"
     ]
    }
   ],
   "source": [
    "print(np.random.standard_normal(30).round(2))"
   ]
  },
  {
   "cell_type": "code",
   "execution_count": 95,
   "metadata": {},
   "outputs": [
    {
     "name": "stdout",
     "output_type": "stream",
     "text": [
      "[0.5488135  0.71518937 0.60276338 0.54488318 0.4236548  0.64589411]\n",
      "[0.43758721 0.891773   0.96366276 0.38344152 0.79172504]\n",
      "[0.52889492 0.56804456 0.92559664 0.07103606 0.0871293 ]\n"
     ]
    }
   ],
   "source": [
    "np.random.seed(0)\n",
    "print(np.random.rand(6))\n",
    "print(np.random.rand(5))\n",
    "print(np.random.rand(5))\n",
    "\n",
    "\n"
   ]
  },
  {
   "cell_type": "code",
   "execution_count": 96,
   "metadata": {},
   "outputs": [
    {
     "data": {
      "text/plain": [
       "array([[0., 0., 0., 0.],\n",
       "       [0., 0., 0., 0.],\n",
       "       [0., 0., 0., 0.],\n",
       "       [0., 0., 0., 0.],\n",
       "       [0., 0., 0., 0.]])"
      ]
     },
     "metadata": {},
     "output_type": "display_data"
    }
   ],
   "source": [
    "display(np.zeros((5, 4)))"
   ]
  },
  {
   "cell_type": "code",
   "execution_count": 97,
   "metadata": {},
   "outputs": [
    {
     "data": {
      "text/plain": [
       "array([[1., 1., 1., 1., 1.],\n",
       "       [1., 1., 1., 1., 1.],\n",
       "       [1., 1., 1., 1., 1.],\n",
       "       [1., 1., 1., 1., 1.]])"
      ]
     },
     "metadata": {},
     "output_type": "display_data"
    }
   ],
   "source": [
    "display(np.ones((4,5)))"
   ]
  },
  {
   "cell_type": "code",
   "execution_count": 98,
   "metadata": {},
   "outputs": [
    {
     "data": {
      "text/plain": [
       "array([[[1., 1., 1., 1.],\n",
       "        [1., 1., 1., 1.],\n",
       "        [1., 1., 1., 1.]],\n",
       "\n",
       "       [[1., 1., 1., 1.],\n",
       "        [1., 1., 1., 1.],\n",
       "        [1., 1., 1., 1.]]])"
      ]
     },
     "metadata": {},
     "output_type": "display_data"
    }
   ],
   "source": [
    "display((np.ones((2,3,4))))"
   ]
  },
  {
   "cell_type": "code",
   "execution_count": 99,
   "metadata": {},
   "outputs": [
    {
     "data": {
      "text/plain": [
       "array([[[1., 1., 1., 1.],\n",
       "        [1., 1., 1., 1.],\n",
       "        [1., 1., 1., 1.]],\n",
       "\n",
       "       [[1., 1., 1., 1.],\n",
       "        [1., 1., 1., 1.],\n",
       "        [1., 1., 1., 1.]]])"
      ]
     },
     "execution_count": 99,
     "metadata": {},
     "output_type": "execute_result"
    }
   ],
   "source": [
    "np.ones((2,3,4))"
   ]
  },
  {
   "cell_type": "code",
   "execution_count": 100,
   "metadata": {},
   "outputs": [
    {
     "data": {
      "text/plain": [
       "array([[1., 1., 1., 1., 1.],\n",
       "       [1., 1., 1., 1., 1.],\n",
       "       [1., 1., 1., 1., 1.],\n",
       "       [1., 1., 1., 1., 1.]])"
      ]
     },
     "execution_count": 100,
     "metadata": {},
     "output_type": "execute_result"
    }
   ],
   "source": [
    "np.ones((4,5))"
   ]
  },
  {
   "cell_type": "code",
   "execution_count": 101,
   "metadata": {},
   "outputs": [
    {
     "data": {
      "text/plain": [
       "array([2.2, 2.4, 2.6, 2.8, 3. , 3.2, 3.4, 3.6, 3.8, 4. ])"
      ]
     },
     "execution_count": 101,
     "metadata": {},
     "output_type": "execute_result"
    }
   ],
   "source": [
    "np.arange(2.2, 4.2, 0.2)"
   ]
  },
  {
   "cell_type": "code",
   "execution_count": 102,
   "metadata": {},
   "outputs": [
    {
     "name": "stdout",
     "output_type": "stream",
     "text": [
      "[[ 0  1  2  3  4  5]\n",
      " [10 11 12 13 14 15]\n",
      " [20 21 22 23 24 25]\n",
      " [30 31 32 33 34 35]\n",
      " [40 41 42 43 44 45]]\n"
     ]
    }
   ],
   "source": [
    "def f(x,y):\n",
    "    return 10*x+y\n",
    "\n",
    "result = np.fromfunction(f, (5,6), dtype=int)\n",
    "print(result)"
   ]
  },
  {
   "cell_type": "code",
   "execution_count": 117,
   "metadata": {},
   "outputs": [
    {
     "data": {
      "text/plain": [
       "array([0, 1, 2, 3, 4, 5])"
      ]
     },
     "execution_count": 117,
     "metadata": {},
     "output_type": "execute_result"
    }
   ],
   "source": [
    "result[0]"
   ]
  },
  {
   "cell_type": "code",
   "execution_count": 104,
   "metadata": {},
   "outputs": [
    {
     "name": "stdout",
     "output_type": "stream",
     "text": [
      "0\n",
      "1\n",
      "2\n",
      "10\n",
      "12\n",
      "13\n",
      "100\n",
      "101\n",
      "102\n",
      "110\n",
      "112\n",
      "113\n",
      "----------------\n"
     ]
    }
   ],
   "source": [
    "c = np.array([[  0,  1,  2],\n",
    "               [ 10, 12, 13],\n",
    "               [100,101,102],\n",
    "               [110,112,113]])\n",
    "\n",
    "for row in c:\n",
    "    for elt in row:\n",
    "        print(elt)\n",
    "print(\"----------------\")"
   ]
  },
  {
   "cell_type": "code",
   "execution_count": 105,
   "metadata": {},
   "outputs": [
    {
     "name": "stdout",
     "output_type": "stream",
     "text": [
      "0\n",
      "1\n",
      "2\n",
      "10\n",
      "12\n",
      "13\n",
      "100\n",
      "101\n",
      "102\n",
      "110\n",
      "112\n",
      "113\n"
     ]
    }
   ],
   "source": [
    "c = np.array([[  0,  1,  2],\n",
    "               [ 10, 12, 13],\n",
    "               [100,101,102],\n",
    "               [110,112,113]])\n",
    "\n",
    "for elt in c.flat:\n",
    "    print(elt)"
   ]
  },
  {
   "cell_type": "code",
   "execution_count": 106,
   "metadata": {},
   "outputs": [
    {
     "name": "stdout",
     "output_type": "stream",
     "text": [
      "[[ 0  1  2  3]\n",
      " [10 11 12 13]\n",
      " [20 21 22 23]\n",
      " [30 31 32 33]\n",
      " [40 41 42 43]]\n"
     ]
    }
   ],
   "source": [
    "def f(x, y):\n",
    "    return 10*x+y\n",
    "\n",
    "b = np.fromfunction(f, (5,4), dtype=int)\n",
    "print(b)"
   ]
  },
  {
   "cell_type": "code",
   "execution_count": 107,
   "metadata": {},
   "outputs": [
    {
     "name": "stdout",
     "output_type": "stream",
     "text": [
      "[21 22]\n"
     ]
    }
   ],
   "source": [
    "print(b[2, 1:3])"
   ]
  },
  {
   "cell_type": "code",
   "execution_count": 115,
   "metadata": {},
   "outputs": [
    {
     "data": {
      "text/plain": [
       "array([[ 0,  1,  2,  3],\n",
       "       [ 4,  5,  6,  7],\n",
       "       [ 8,  9, 10, 11]])"
      ]
     },
     "metadata": {},
     "output_type": "display_data"
    },
    {
     "data": {
      "text/plain": [
       "array([ 5,  6,  7,  8,  9, 10, 11])"
      ]
     },
     "execution_count": 115,
     "metadata": {},
     "output_type": "execute_result"
    }
   ],
   "source": [
    "a = np.arange(12).reshape(3,4)\n",
    "display(a)\n",
    "b = a > 4\n",
    "b \n",
    "a[b]"
   ]
  },
  {
   "cell_type": "code",
   "execution_count": null,
   "metadata": {},
   "outputs": [],
   "source": []
  }
 ],
 "metadata": {
  "kernelspec": {
   "display_name": "Python 3",
   "language": "python",
   "name": "python3"
  },
  "language_info": {
   "codemirror_mode": {
    "name": "ipython",
    "version": 3
   },
   "file_extension": ".py",
   "mimetype": "text/x-python",
   "name": "python",
   "nbconvert_exporter": "python",
   "pygments_lexer": "ipython3",
   "version": "3.12.1"
  }
 },
 "nbformat": 4,
 "nbformat_minor": 2
}
