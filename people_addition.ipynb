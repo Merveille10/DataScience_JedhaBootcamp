{
 "cells": [
  {
   "cell_type": "code",
   "execution_count": 23,
   "metadata": {},
   "outputs": [],
   "source": [
    "def share_addition():\n",
    "\n",
    "    try:\n",
    "        total_addition = float(input(\"what is the total amount of the bill?\"))\n",
    "        total_persons = int(input(\"what is the total number of guests?\"))\n",
    "        if (total_addition < 0) or (total_persons < 0):\n",
    "            raise ValueError()\n",
    "        amount_per_person = total_addition/total_persons\n",
    "\n",
    "    except ValueError: # happens if the user types something other than numbers.\n",
    "        print('Please recall the function and only give positive numbers.')\n",
    "\n",
    "    except ZeroDivisionError: # happens if the user enters \"0\" as the number of guests.\n",
    "        print('Please call back the function and give a number of guests > 0')\n",
    "\n",
    "    else:\n",
    "        print(\"the amount per person is {:4.2f}\".format(amount_per_person))\n",
    "        return amount_per_person"
   ]
  },
  {
   "cell_type": "code",
   "execution_count": 24,
   "metadata": {},
   "outputs": [
    {
     "name": "stdout",
     "output_type": "stream",
     "text": [
      "Please recall the function and only give positive numbers.\n",
      "None\n"
     ]
    }
   ],
   "source": [
    "guest = share_addition()\n",
    "print(guest)"
   ]
  },
  {
   "cell_type": "code",
   "execution_count": null,
   "metadata": {},
   "outputs": [],
   "source": []
  }
 ],
 "metadata": {
  "kernelspec": {
   "display_name": "Python 3",
   "language": "python",
   "name": "python3"
  },
  "language_info": {
   "codemirror_mode": {
    "name": "ipython",
    "version": 3
   },
   "file_extension": ".py",
   "mimetype": "text/x-python",
   "name": "python",
   "nbconvert_exporter": "python",
   "pygments_lexer": "ipython3",
   "version": "3.12.1"
  }
 },
 "nbformat": 4,
 "nbformat_minor": 2
}
